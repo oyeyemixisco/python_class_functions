{
  "nbformat": 4,
  "nbformat_minor": 0,
  "metadata": {
    "colab": {
      "provenance": [],
      "authorship_tag": "ABX9TyO33Mu8YiqgU9mZg5LuJDjN",
      "include_colab_link": true
    },
    "kernelspec": {
      "name": "python3",
      "display_name": "Python 3"
    },
    "language_info": {
      "name": "python"
    }
  },
  "cells": [
    {
      "cell_type": "markdown",
      "metadata": {
        "id": "view-in-github",
        "colab_type": "text"
      },
      "source": [
        "<a href=\"https://colab.research.google.com/github/oyeyemixisco/python_class_functions/blob/main/DSAI.ipynb\" target=\"_parent\"><img src=\"https://colab.research.google.com/assets/colab-badge.svg\" alt=\"Open In Colab\"/></a>"
      ]
    },
    {
      "cell_type": "markdown",
      "source": [
        "## DSAI Application\n",
        "### Python programming - Excercise VII\n",
        "#### Human years to Dog years calculation program"
      ],
      "metadata": {
        "id": "8rWiSPWhM454"
      }
    },
    {
      "cell_type": "code",
      "execution_count": 42,
      "metadata": {
        "id": "UiCOWLKXM3wH"
      },
      "outputs": [],
      "source": [
        "# Declaring function to validate user input and perform calculations\n",
        "# If user input is right perform stated calculations, if user input is wrong display warning or error\n",
        "\n",
        "def convertHuman_to_dog_years(humanYears):\n",
        "    if humanYears == 0:\n",
        "      # dispaly Warning\n",
        "      return \"Warning: You inputed \"+ str(humanYears) +\" Human years cannot be 0\\nHint: 0.5 is equivalent to 6months(human years)\"\n",
        "    elif humanYears > 0 and humanYears <= 2:\n",
        "      # Counting each of the first two human years as 10.5 dog years\n",
        "      dogYears = humanYears * 10.5\n",
        "    elif humanYears > 2:\n",
        "      # The first two human years count as 10.5 dog years each\n",
        "      # And each additional human year counts as 4 dog years\n",
        "      dogYears = 2 * 10.5 + (humanYears - 2) * 4\n",
        "    else:\n",
        "      return \"Error: Age of human years cannot be Negative. \\nYou inputed \" + str(humanYears) + \" which is negative\"\n",
        "    return dogYears\n",
        ""
      ]
    },
    {
      "cell_type": "markdown",
      "source": [
        "**Now, we need to get input from the user to execute the main program**"
      ],
      "metadata": {
        "id": "7FcVJp1OYR40"
      }
    },
    {
      "cell_type": "code",
      "source": [
        "while True:\n",
        "        # Get input from the user\n",
        "        try:\n",
        "            humanYears = float(input(\"Please enter the number of human years: \"))\n",
        "            result = convertHuman_to_dog_years(humanYears)\n",
        "            if isinstance(result, str):  # If the result is an error message\n",
        "                print(result)\n",
        "            else:\n",
        "                print(f\"{humanYears} human years is equivalent to  {result} dog years.\")\n",
        "        except ValueError:\n",
        "          # handles input exception that are not number\n",
        "            print(\"Error: Please enter a valid number for human years.\")\n",
        "\n",
        "        # This section ask the user if they want to run the program again\n",
        "        # and .strip().upper() handles case sensitivity, convert the input to uppercase\n",
        "        repeatProgram= input(\"\\nDo you want to run the program again? Enter Y for Yes or N for No: \").strip().upper()\n",
        "        if repeatProgram != 'Y':\n",
        "            print(\"Exiting program... Goodbye!\")\n",
        "            break"
      ],
      "metadata": {
        "colab": {
          "base_uri": "https://localhost:8080/"
        },
        "id": "nppiQXj-NFHC",
        "outputId": "4de3456a-04ec-43cd-ce9c-519072db4a01"
      },
      "execution_count": 43,
      "outputs": [
        {
          "output_type": "stream",
          "name": "stdout",
          "text": [
            "Please enter the number of human years: 3\n",
            "3.0 human years is equivalent to  25.0 dog years.\n",
            "\n",
            "Do you want to run the program again? Enter Y for Yes or N for No: y\n",
            "Please enter the number of human years: 0\n",
            "Warning: You inputed 0.0 Human years cannot be 0\n",
            "Hint: 0.5 is equivalent to 6months(human years)\n",
            "\n",
            "Do you want to run the program again? Enter Y for Yes or N for No: Y\n",
            "Please enter the number of human years: -3\n",
            "Error: Age of human years cannot be Negative. \n",
            "You inputed -3.0 which is negative\n",
            "\n",
            "Do you want to run the program again? Enter Y for Yes or N for No: Y\n",
            "Please enter the number of human years: abc\n",
            "Error: Please enter a valid number for human years.\n",
            "\n",
            "Do you want to run the program again? Enter Y for Yes or N for No: y\n",
            "Please enter the number of human years: 0.3\n",
            "0.3 human years is equivalent to  3.15 dog years.\n",
            "\n",
            "Do you want to run the program again? Enter Y for Yes or N for No: N\n",
            "Exiting program... Goodbye!\n"
          ]
        }
      ]
    },
    {
      "cell_type": "markdown",
      "source": [
        "### Python programming - Excercise VIII\n",
        "#### Real roots of a quadratic function"
      ],
      "metadata": {
        "id": "1ACd__x2dgeZ"
      }
    },
    {
      "cell_type": "code",
      "source": [
        "# We need to import math module to use math.sqrt() funtion\n",
        "import math"
      ],
      "metadata": {
        "id": "YAsqN7K1fPYg"
      },
      "execution_count": 59,
      "outputs": []
    },
    {
      "cell_type": "markdown",
      "source": [
        "**If you don't want to use the math module, you can compute the square root using the exponentiation operator ** with a power of 0.5.**\n",
        "#### The square root of the discriminant will be written as:\n",
        "\n",
        "*sqrt_discriminant = discriminant ** 0.5*"
      ],
      "metadata": {
        "id": "_doFg35kgg82"
      }
    },
    {
      "cell_type": "code",
      "source": [
        "# The function to calculate roots, discriminant and check for the root nature\n",
        "def findQuadratic_roots(a, b, c):\n",
        "\n",
        "    # The discriminant calculation\n",
        "    discriminant = b**2 - 4 * a * c\n",
        "\n",
        "    # Checking the nature of the roots based on the discriminant\n",
        "    # If discriminant is negative then the quadratic equation have no real roots\n",
        "    if discriminant < 0:\n",
        "        return 0, None, None  # No real roots\n",
        "\n",
        "    # If the discriminant is 0, then the equation has one real root.\n",
        "    elif discriminant == 0:\n",
        "        # One real root (repeated)\n",
        "        root = (-b) / (2 * a)\n",
        "        return 1, root, None   # One real roots\n",
        "\n",
        "    # Otherwise the equation has two real roots\n",
        "    else:\n",
        "        # The expression must be evaluated twice: using a + sign and - sign\n",
        "        root1 = (-b + math.sqrt(discriminant)) / (2 * a)\n",
        "        root2 = (-b - math.sqrt(discriminant)) / (2 * a)\n",
        "        return 2, root1, root2"
      ],
      "metadata": {
        "id": "-0mrWb2ahGS4"
      },
      "execution_count": 67,
      "outputs": []
    },
    {
      "cell_type": "markdown",
      "source": [
        "Now, we write the code for the main program"
      ],
      "metadata": {
        "id": "ok8cfH-Vj3xM"
      }
    },
    {
      "cell_type": "code",
      "source": [
        "# Prompt the user to enter the coefficients for a, b, and c\n",
        "while True:\n",
        "    try:\n",
        "      a = float(input(\"Enter the coefficient of a: \"))\n",
        "      b = float(input(\"Enter the coefficient of b: \"))\n",
        "      c = float(input(\"Enter the coefficient of c: \"))\n",
        "\n",
        "      # Ensure a is not zero (quadratic equation requires a != 0)\n",
        "      # if 'a' is zero (then NOT a quadratic equation)\n",
        "      if a == 0:\n",
        "          print(\"Error: The coefficient of 'a' cannot be ZERO for a quadratic equation.\")\n",
        "      else:\n",
        "          # Find the roots\n",
        "          num_roots, root1, root2 = findQuadratic_roots(a, b, c)\n",
        "\n",
        "          ## Display the results\n",
        "          if num_roots == 0:\n",
        "              print(\"The quadratic equation has NO real roots.\")\n",
        "          elif num_roots == 1:\n",
        "              print(f\"The quadratic equation has ONE real root: x = {root1:.2f}\")\n",
        "          else:\n",
        "              print(f\"The quadratic equation has TWO real roots: x1 = {root1:.2f}, x2 = {root2:.2f}\")\n",
        "\n",
        "    except ValueError:\n",
        "      print(\"Error: Please enter valid numeric coefficients.\")\n",
        "\n",
        "   # Ask the user if they want to run the program again\n",
        "    repeatProgram = input(\"\\nDo you want to solve another quadratic equation? (Y for Yes, N for No): \").strip().upper()\n",
        "    if repeatProgram != 'Y':\n",
        "      print(\"Exiting program... Goodbye!\")\n",
        "      break"
      ],
      "metadata": {
        "colab": {
          "base_uri": "https://localhost:8080/"
        },
        "id": "OmEsB5iQj8b1",
        "outputId": "cac4615f-3e98-486b-cbb4-c453b97403e8"
      },
      "execution_count": 76,
      "outputs": [
        {
          "output_type": "stream",
          "name": "stdout",
          "text": [
            "Enter the coefficient of a: 1\n",
            "Enter the coefficient of b: 2\n",
            "Enter the coefficient of c: 1\n",
            "The quadratic equation has ONE real root: x = -1.00\n",
            "\n",
            "Do you want to solve another quadratic equation? (Y for Yes, N for No): Y\n",
            "Enter the coefficient of a: 1\n",
            "Enter the coefficient of b: -3\n",
            "Enter the coefficient of c: 2\n",
            "The quadratic equation has TWO real roots: x1 = 2.00, x2 = 1.00\n",
            "\n",
            "Do you want to solve another quadratic equation? (Y for Yes, N for No): y\n",
            "Enter the coefficient of a: 1\n",
            "Enter the coefficient of b: 0\n",
            "Enter the coefficient of c: 1\n",
            "The quadratic equation has NO real roots.\n",
            "\n",
            "Do you want to solve another quadratic equation? (Y for Yes, N for No): Y\n",
            "Enter the coefficient of a: 0\n",
            "Enter the coefficient of b: -2\n",
            "Enter the coefficient of c: 1\n",
            "Error: The coefficient of 'a' cannot be ZERO for a quadratic equation.\n",
            "\n",
            "Do you want to solve another quadratic equation? (Y for Yes, N for No): y\n",
            "Enter the coefficient of a: xy\n",
            "Error: Please enter valid numeric coefficients.\n",
            "\n",
            "Do you want to solve another quadratic equation? (Y for Yes, N for No): y\n",
            "Enter the coefficient of a: 1\n",
            "Enter the coefficient of b: 2\n",
            "Enter the coefficient of c: -2\n",
            "The quadratic equation has TWO real roots: x1 = 0.73, x2 = -2.73\n",
            "\n",
            "Do you want to solve another quadratic equation? (Y for Yes, N for No): n\n",
            "Exiting program... Goodbye!\n"
          ]
        }
      ]
    },
    {
      "cell_type": "markdown",
      "source": [
        "### Python programming - Excercise IX\n",
        "#### Program that recursively calculates the edit distance between two strings\n",
        "\n",
        "**The function solutions follows the given algorithm in the exercise and allows users to input two strings to compute edit distance between them. Here is the followed algorithm:**\n",
        "\n",
        "```\n",
        "Let s and t be the strings\n",
        "If the length of s is 0 then\n",
        "Return the length of t\n",
        "Else if the length of t is 0 then\n",
        "Return the length of s\n",
        "Else\n",
        "Set cost to 0\n",
        "If the last character in s does not equal the last character in t then\n",
        "Set cost to 1\n",
        "Set d1 equal to the edit distance between all characters \\\n",
        "except the last one in s, and all characters in t, plus 1\n",
        "Set d2 equal to the edit distance between all characters in s, \\\n",
        "and all characters except the last one in t, plus 1\n",
        "Set d3 equal to the edit distance between all characters \\\n",
        "except the last one in s, and all characters \\\n",
        "except the last one in t, plus cost\n",
        "Return the minimum of d1, d2 and d3\n",
        "```\n"
      ],
      "metadata": {
        "id": "j0N_J03ByJTT"
      }
    },
    {
      "cell_type": "code",
      "source": [
        "# We start the recursive function by writing the Base case\n",
        "\n",
        "def editDistance(s, t):\n",
        "    # Base cases: if one string is empty, return the length of the other string\n",
        "    if len(s) == 0:\n",
        "        return len(t)\n",
        "    if len(t) == 0:\n",
        "        return len(s)\n",
        "\n",
        "    # Determine cost of substitution (0 if last characters match, 1 otherwise)\n",
        "    if s[-1] == t[-1]:\n",
        "      cost = 0\n",
        "    else:\n",
        "      cost = 1\n",
        "    # the above can be written using a conditional expression as: cost = 0 if s[-1] == t[-1] else 1\n",
        "\n",
        "    # Now the Recursive cases\n",
        "\n",
        "    # Delete last character of s\n",
        "    d1 = editDistance(s[:-1], t) + 1\n",
        "\n",
        "    # Delete last character of t\n",
        "    d2 = editDistance(s, t[:-1]) + 1\n",
        "\n",
        "    # Substition\n",
        "    d3 = editDistance(s[:-1], t[:-1]) + cost\n",
        "\n",
        "    # Return the minimum of the three operations\n",
        "    return min(d1, d2, d3)"
      ],
      "metadata": {
        "id": "jV74ijft2W9M"
      },
      "execution_count": 77,
      "outputs": []
    },
    {
      "cell_type": "markdown",
      "source": [
        "We are done with the recursive function for the given algorithm. Let's write the main program."
      ],
      "metadata": {
        "id": "YzzYMtIH5zqa"
      }
    },
    {
      "cell_type": "code",
      "source": [
        "print(\"A Program that calculate the Edit Distance between Two Strings! -A measure of their similarity\\n\")\n",
        "while True:\n",
        "  # Get two strings from user\n",
        "  string1 = input(\"Enter the first string: \")\n",
        "  string2 = input(\"Enter the second string: \")\n",
        "\n",
        "  # Compute edit distance\n",
        "  distance = editDistance(string1, string2)\n",
        "\n",
        "  # Print the edit distance between the two inputted strings\n",
        "  print(f\"The edit distance between '{string1}' and '{string2}' is: {distance}.\")\n",
        "\n",
        "  # Ask if the user wants to run the program again\n",
        "  repeatProgram = input(\"\\nDo you want to calculate another edit distance? (Y for Yes, N for No): \").strip().upper()\n",
        "  if repeatProgram != 'Y':\n",
        "    print(\"Exiting program... Goodbye!\")\n",
        "    break\n",
        "\n"
      ],
      "metadata": {
        "colab": {
          "base_uri": "https://localhost:8080/"
        },
        "id": "eYCaGB2V6EPs",
        "outputId": "1a28664f-59f4-4ba9-aa80-ffbd6d812a80"
      },
      "execution_count": 81,
      "outputs": [
        {
          "output_type": "stream",
          "name": "stdout",
          "text": [
            "A Program that calculate the Edit Distance between Two Strings! -A measure of their similarity\n",
            "\n",
            "Enter the first string: hello\n",
            "Enter the second string: holla\n",
            "The edit distance between 'hello' and 'holla' is: 2.\n",
            "\n",
            "Do you want to calculate another edit distance? (Y for Yes, N for No): y\n",
            "Enter the first string: hello\n",
            "Enter the second string: hola\n",
            "The edit distance between 'hello' and 'hola' is: 3.\n",
            "\n",
            "Do you want to calculate another edit distance? (Y for Yes, N for No): y\n",
            "Enter the first string: universite\n",
            "Enter the second string: university\n",
            "The edit distance between 'universite' and 'university' is: 1.\n",
            "\n",
            "Do you want to calculate another edit distance? (Y for Yes, N for No): y\n",
            "Enter the first string: kitten\n",
            "Enter the second string: sitting\n",
            "The edit distance between 'kitten' and 'sitting' is: 3.\n",
            "\n",
            "Do you want to calculate another edit distance? (Y for Yes, N for No): y\n",
            "Enter the first string: Cote d' Azur\n",
            "Enter the second string: Cote d'Azur\n",
            "The edit distance between 'Cote d' Azur' and 'Cote d'Azur' is: 1.\n",
            "\n",
            "Do you want to calculate another edit distance? (Y for Yes, N for No): y\n",
            "Enter the first string: Cote d'Azur\n",
            "Enter the second string: Cote d'Azur\n",
            "The edit distance between 'Cote d'Azur' and 'Cote d'Azur' is: 0.\n",
            "\n",
            "Do you want to calculate another edit distance? (Y for Yes, N for No): n\n",
            "Exiting program... Goodbye!\n"
          ]
        }
      ]
    },
    {
      "cell_type": "markdown",
      "source": [
        "### Python programming - Excercise X\n",
        "#### Program to create and implement a **Triangle** class based on given instructions\n",
        "\n",
        "\n",
        "*   Create a class, Triangle. Its init () method should take self, angle1,\n",
        "angle2, and angle3 as arguments. Make sure to set these appropriately\n",
        "in the body of the init () method.\n",
        "*   Create a variable named number of sides and set it equal to 3.\n",
        "* Create a method named check angles. The sum of a triangle’s three angles is It should return True if the sum of self.angle1, self.angle2,\n",
        "and self.angle3 is equal 180, and False otherwise.\n",
        "* Create a variable named my triangle and set it equal to a new instance\n",
        "of your Triangle class. Pass it three angles that sum to 180 (e.g. 90, 30,\n",
        "60).\n",
        "* Print out my triangle.number of sides and print out my triangle.check angles().\n",
        "\n",
        "\n",
        "\n",
        "\n",
        "\n",
        "\n",
        "\n",
        "\n",
        "\n"
      ],
      "metadata": {
        "id": "MY291UdZCELI"
      }
    },
    {
      "cell_type": "code",
      "source": [
        "from pickle import TRUE\n",
        "# step by step implementation of the program\n",
        "\n",
        "#Step 1a: Create the class, Triangle\n",
        "class Triangle:\n",
        "    # Step 1b: Initialize the Triangle class with three angles\n",
        "    def __init__(self, angle1, angle2, angle3):\n",
        "        self.angle1 = angle1\n",
        "        self.angle2 = angle2\n",
        "        self.angle3 = angle3\n",
        "\n",
        "    # Step 2: Create a class variable named number of sides and set to 3\n",
        "    numberOf_sides = 3\n",
        "\n",
        "    # Step 3: Create a method to check if the angles sum to 180 degrees i.e if the angles form a valid triangle\n",
        "    def checkAngles(self):\n",
        "        if (self.angle1 + self.angle2 + self.angle3) == 180:\n",
        "            return True\n",
        "        else:\n",
        "            return False\n",
        "\n",
        "# Step 4: Create an instance of the Triangle class with angles summing to 180\n",
        "myTriangle = Triangle(80, 40, 60)\n",
        "\n",
        "# Step 5a: Print the number of sides\n",
        "print(\"Number of sides:\", myTriangle.numberOf_sides)\n",
        "\n",
        "# Step 5b: Print the result of checkAngles(): If valid or not\n",
        "print(\"Do the angles sum to 180 degrees and Is it a valid Triangle?\", myTriangle.checkAngles())\n",
        "\n",
        "\n",
        "\n"
      ],
      "metadata": {
        "colab": {
          "base_uri": "https://localhost:8080/"
        },
        "id": "nOQ-iUGXD7FG",
        "outputId": "47742e8b-d583-46cc-e77b-624dc9a93750"
      },
      "execution_count": 91,
      "outputs": [
        {
          "output_type": "stream",
          "name": "stdout",
          "text": [
            "Number of sides: 3\n",
            "Do the angles sum to 180 degrees and Is it a valid Triangle? True\n"
          ]
        }
      ]
    },
    {
      "cell_type": "code",
      "source": [
        "# This last step is not among the steps but makes the program more friendly\n",
        "print(f\"Verifyig... \\nThe inputted angles are: {myTriangle.angle1}, {myTriangle.angle2}, {myTriangle.angle3}\")\n",
        "\n",
        "print(\"\\nThe sum of inputted angles is: \"+str(myTriangle.angle1 + myTriangle.angle2 + myTriangle.angle3))"
      ],
      "metadata": {
        "colab": {
          "base_uri": "https://localhost:8080/"
        },
        "id": "NT8Jk-zqL14n",
        "outputId": "8cd7cea8-0d50-4b0e-c3bd-afe4b4bc76e0"
      },
      "execution_count": 94,
      "outputs": [
        {
          "output_type": "stream",
          "name": "stdout",
          "text": [
            "Verifyig... \n",
            "The inputted angles are: 80, 40, 60\n",
            "\n",
            "The sum of inputted angles is: 180\n"
          ]
        }
      ]
    }
  ]
}